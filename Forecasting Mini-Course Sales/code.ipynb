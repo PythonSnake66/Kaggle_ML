{
 "cells": [
  {
   "cell_type": "code",
   "execution_count": 68,
   "id": "initial_id",
   "metadata": {
    "ExecuteTime": {
     "end_time": "2024-02-11T07:48:02.528334700Z",
     "start_time": "2024-02-11T07:48:02.383721600Z"
    },
    "collapsed": true
   },
   "outputs": [],
   "source": [
    "import numpy as np\n",
    "import pandas as pd\n",
    "import seaborn as sns\n",
    "import matplotlib.pyplot as plt\n",
    "\n",
    "from sklearn.pipeline import Pipeline\n",
    "from sklearn.impute import SimpleImputer\n",
    "from sklearn.metrics import roc_auc_score, accuracy_score\n",
    "from sklearn.compose import ColumnTransformer\n",
    "from sklearn.linear_model import LogisticRegression\n",
    "from sklearn.ensemble import RandomForestClassifier, VotingClassifier\n",
    "from sklearn.feature_selection import SelectPercentile, chi2\n",
    "from sklearn.model_selection import train_test_split, RandomizedSearchCV\n",
    "from sklearn.preprocessing import StandardScaler, LabelEncoder, OneHotEncoder\n",
    "from sklearn.metrics import accuracy_score, classification_report\n",
    "from sklearn.metrics import DetCurveDisplay, RocCurveDisplay\n",
    "from xgboost import XGBClassifier\n",
    "from sklearn.ensemble import GradientBoostingClassifier\n",
    "from sklearn.linear_model import Lasso\n",
    "from sklearn.ensemble import RandomForestRegressor\n",
    "from sklearn.metrics import mean_absolute_error\n",
    "import xgboost as xgb\n",
    "from sklearn.datasets import load_iris\n",
    "from sklearn.model_selection import train_test_split\n",
    "from sklearn.metrics import accuracy_score\n",
    "\n",
    "import warnings\n",
    "warnings.filterwarnings('ignore')\n",
    "\n",
    "sns.set_style('whitegrid')\n",
    "plt.rcParams['figure.figsize'] = 10, 6"
   ]
  },
  {
   "cell_type": "code",
   "execution_count": 2,
   "id": "872348efbca8058",
   "metadata": {
    "ExecuteTime": {
     "end_time": "2024-02-10T19:37:08.726243600Z",
     "start_time": "2024-02-10T19:37:08.578079100Z"
    }
   },
   "outputs": [],
   "source": [
    "train = pd.read_csv('train.csv')\n",
    "test = pd.read_csv('test.csv')"
   ]
  },
  {
   "cell_type": "code",
   "execution_count": 3,
   "id": "b3893d68d5988dfa",
   "metadata": {
    "ExecuteTime": {
     "end_time": "2024-02-10T19:37:16.672172700Z",
     "start_time": "2024-02-10T19:37:16.561716400Z"
    }
   },
   "outputs": [
    {
     "name": "stdout",
     "output_type": "stream",
     "text": [
      "<class 'pandas.core.frame.DataFrame'>\n",
      "RangeIndex: 136950 entries, 0 to 136949\n",
      "Data columns (total 6 columns):\n",
      " #   Column    Non-Null Count   Dtype \n",
      "---  ------    --------------   ----- \n",
      " 0   id        136950 non-null  int64 \n",
      " 1   date      136950 non-null  object\n",
      " 2   country   136950 non-null  object\n",
      " 3   store     136950 non-null  object\n",
      " 4   product   136950 non-null  object\n",
      " 5   num_sold  136950 non-null  int64 \n",
      "dtypes: int64(2), object(4)\n",
      "memory usage: 6.3+ MB\n"
     ]
    }
   ],
   "source": [
    "train.info()"
   ]
  },
  {
   "cell_type": "code",
   "execution_count": 4,
   "id": "609f1c25fb2029c",
   "metadata": {
    "ExecuteTime": {
     "end_time": "2024-02-10T19:37:46.488490900Z",
     "start_time": "2024-02-10T19:37:46.462560300Z"
    }
   },
   "outputs": [
    {
     "name": "stdout",
     "output_type": "stream",
     "text": [
      "<class 'pandas.core.frame.DataFrame'>\n",
      "RangeIndex: 27375 entries, 0 to 27374\n",
      "Data columns (total 5 columns):\n",
      " #   Column   Non-Null Count  Dtype \n",
      "---  ------   --------------  ----- \n",
      " 0   id       27375 non-null  int64 \n",
      " 1   date     27375 non-null  object\n",
      " 2   country  27375 non-null  object\n",
      " 3   store    27375 non-null  object\n",
      " 4   product  27375 non-null  object\n",
      "dtypes: int64(1), object(4)\n",
      "memory usage: 1.0+ MB\n"
     ]
    }
   ],
   "source": [
    "test.info()"
   ]
  },
  {
   "cell_type": "code",
   "execution_count": 5,
   "id": "b9dfd1bbba4730af",
   "metadata": {
    "ExecuteTime": {
     "end_time": "2024-02-10T19:39:15.695211700Z",
     "start_time": "2024-02-10T19:39:15.662298400Z"
    }
   },
   "outputs": [
    {
     "data": {
      "text/html": [
       "<div>\n",
       "<style scoped>\n",
       "    .dataframe tbody tr th:only-of-type {\n",
       "        vertical-align: middle;\n",
       "    }\n",
       "\n",
       "    .dataframe tbody tr th {\n",
       "        vertical-align: top;\n",
       "    }\n",
       "\n",
       "    .dataframe thead th {\n",
       "        text-align: right;\n",
       "    }\n",
       "</style>\n",
       "<table border=\"1\" class=\"dataframe\">\n",
       "  <thead>\n",
       "    <tr style=\"text-align: right;\">\n",
       "      <th></th>\n",
       "      <th>id</th>\n",
       "      <th>date</th>\n",
       "      <th>country</th>\n",
       "      <th>store</th>\n",
       "      <th>product</th>\n",
       "      <th>num_sold</th>\n",
       "    </tr>\n",
       "  </thead>\n",
       "  <tbody>\n",
       "    <tr>\n",
       "      <th>0</th>\n",
       "      <td>0</td>\n",
       "      <td>2017-01-01</td>\n",
       "      <td>Argentina</td>\n",
       "      <td>Kaggle Learn</td>\n",
       "      <td>Using LLMs to Improve Your Coding</td>\n",
       "      <td>63</td>\n",
       "    </tr>\n",
       "    <tr>\n",
       "      <th>1</th>\n",
       "      <td>1</td>\n",
       "      <td>2017-01-01</td>\n",
       "      <td>Argentina</td>\n",
       "      <td>Kaggle Learn</td>\n",
       "      <td>Using LLMs to Train More LLMs</td>\n",
       "      <td>66</td>\n",
       "    </tr>\n",
       "    <tr>\n",
       "      <th>2</th>\n",
       "      <td>2</td>\n",
       "      <td>2017-01-01</td>\n",
       "      <td>Argentina</td>\n",
       "      <td>Kaggle Learn</td>\n",
       "      <td>Using LLMs to Win Friends and Influence People</td>\n",
       "      <td>9</td>\n",
       "    </tr>\n",
       "    <tr>\n",
       "      <th>3</th>\n",
       "      <td>3</td>\n",
       "      <td>2017-01-01</td>\n",
       "      <td>Argentina</td>\n",
       "      <td>Kaggle Learn</td>\n",
       "      <td>Using LLMs to Win More Kaggle Competitions</td>\n",
       "      <td>59</td>\n",
       "    </tr>\n",
       "    <tr>\n",
       "      <th>4</th>\n",
       "      <td>4</td>\n",
       "      <td>2017-01-01</td>\n",
       "      <td>Argentina</td>\n",
       "      <td>Kaggle Learn</td>\n",
       "      <td>Using LLMs to Write Better</td>\n",
       "      <td>49</td>\n",
       "    </tr>\n",
       "    <tr>\n",
       "      <th>...</th>\n",
       "      <td>...</td>\n",
       "      <td>...</td>\n",
       "      <td>...</td>\n",
       "      <td>...</td>\n",
       "      <td>...</td>\n",
       "      <td>...</td>\n",
       "    </tr>\n",
       "    <tr>\n",
       "      <th>136945</th>\n",
       "      <td>136945</td>\n",
       "      <td>2021-12-31</td>\n",
       "      <td>Spain</td>\n",
       "      <td>Kagglazon</td>\n",
       "      <td>Using LLMs to Improve Your Coding</td>\n",
       "      <td>700</td>\n",
       "    </tr>\n",
       "    <tr>\n",
       "      <th>136946</th>\n",
       "      <td>136946</td>\n",
       "      <td>2021-12-31</td>\n",
       "      <td>Spain</td>\n",
       "      <td>Kagglazon</td>\n",
       "      <td>Using LLMs to Train More LLMs</td>\n",
       "      <td>752</td>\n",
       "    </tr>\n",
       "    <tr>\n",
       "      <th>136947</th>\n",
       "      <td>136947</td>\n",
       "      <td>2021-12-31</td>\n",
       "      <td>Spain</td>\n",
       "      <td>Kagglazon</td>\n",
       "      <td>Using LLMs to Win Friends and Influence People</td>\n",
       "      <td>111</td>\n",
       "    </tr>\n",
       "    <tr>\n",
       "      <th>136948</th>\n",
       "      <td>136948</td>\n",
       "      <td>2021-12-31</td>\n",
       "      <td>Spain</td>\n",
       "      <td>Kagglazon</td>\n",
       "      <td>Using LLMs to Win More Kaggle Competitions</td>\n",
       "      <td>641</td>\n",
       "    </tr>\n",
       "    <tr>\n",
       "      <th>136949</th>\n",
       "      <td>136949</td>\n",
       "      <td>2021-12-31</td>\n",
       "      <td>Spain</td>\n",
       "      <td>Kagglazon</td>\n",
       "      <td>Using LLMs to Write Better</td>\n",
       "      <td>539</td>\n",
       "    </tr>\n",
       "  </tbody>\n",
       "</table>\n",
       "<p>136950 rows × 6 columns</p>\n",
       "</div>"
      ],
      "text/plain": [
       "            id        date    country         store  \\\n",
       "0            0  2017-01-01  Argentina  Kaggle Learn   \n",
       "1            1  2017-01-01  Argentina  Kaggle Learn   \n",
       "2            2  2017-01-01  Argentina  Kaggle Learn   \n",
       "3            3  2017-01-01  Argentina  Kaggle Learn   \n",
       "4            4  2017-01-01  Argentina  Kaggle Learn   \n",
       "...        ...         ...        ...           ...   \n",
       "136945  136945  2021-12-31      Spain     Kagglazon   \n",
       "136946  136946  2021-12-31      Spain     Kagglazon   \n",
       "136947  136947  2021-12-31      Spain     Kagglazon   \n",
       "136948  136948  2021-12-31      Spain     Kagglazon   \n",
       "136949  136949  2021-12-31      Spain     Kagglazon   \n",
       "\n",
       "                                               product  num_sold  \n",
       "0                    Using LLMs to Improve Your Coding        63  \n",
       "1                        Using LLMs to Train More LLMs        66  \n",
       "2       Using LLMs to Win Friends and Influence People         9  \n",
       "3           Using LLMs to Win More Kaggle Competitions        59  \n",
       "4                           Using LLMs to Write Better        49  \n",
       "...                                                ...       ...  \n",
       "136945               Using LLMs to Improve Your Coding       700  \n",
       "136946                   Using LLMs to Train More LLMs       752  \n",
       "136947  Using LLMs to Win Friends and Influence People       111  \n",
       "136948      Using LLMs to Win More Kaggle Competitions       641  \n",
       "136949                      Using LLMs to Write Better       539  \n",
       "\n",
       "[136950 rows x 6 columns]"
      ]
     },
     "execution_count": 5,
     "metadata": {},
     "output_type": "execute_result"
    }
   ],
   "source": [
    "train"
   ]
  },
  {
   "cell_type": "code",
   "execution_count": 8,
   "id": "ff1f73b5b43452b1",
   "metadata": {
    "ExecuteTime": {
     "end_time": "2024-02-10T20:27:26.850956800Z",
     "start_time": "2024-02-10T20:27:26.147103100Z"
    }
   },
   "outputs": [],
   "source": [
    "# Assuming `dates` is a pandas Series of datetime objects from 2017-01-01 to 2022-01-01\n",
    "dates = pd.to_datetime(train['date'])\n",
    "df = pd.DataFrame(dates, columns=['date'])\n",
    "\n",
    "# Step 1: Extract datetime components\n",
    "df['year'] = df['date'].dt.year\n",
    "df['month'] = df['date'].dt.month\n",
    "df['day'] = df['date'].dt.day\n",
    "df['day_of_week'] = df['date'].dt.dayofweek  # Monday=0, Sunday=6\n",
    "\n",
    "# Step 2: Encode cyclical features\n",
    "df['month_sin'] = np.sin(2 * np.pi * df['month'] / 12)\n",
    "df['month_cos'] = np.cos(2 * np.pi * df['month'] / 12)\n",
    "df['day_sin'] = np.sin(2 * np.pi * df['day'] / 31)\n",
    "df['day_cos'] = np.cos(2 * np.pi * df['day'] / 31)\n",
    "df['day_of_week_sin'] = np.sin(2 * np.pi * df['day_of_week'] / 7)\n",
    "df['day_of_week_cos'] = np.cos(2 * np.pi * df['day_of_week'] / 7)"
   ]
  },
  {
   "cell_type": "code",
   "execution_count": 79,
   "id": "1687694ceac6a327",
   "metadata": {
    "ExecuteTime": {
     "end_time": "2024-02-11T07:51:50.668913700Z",
     "start_time": "2024-02-11T07:51:50.652956600Z"
    }
   },
   "outputs": [],
   "source": [
    "def smape(forecasts, actuals):\n",
    "    \"\"\"\n",
    "    Calculate the Symmetric Mean Absolute Percentage Error (sMAPE)\n",
    "    between two lists or arrays of forecast and actual values.\n",
    "    \"\"\"\n",
    "    # Convert inputs to NumPy arrays for vectorized operations\n",
    "    forecasts, actuals = np.array(forecasts), np.array(actuals)\n",
    "    # Calculate the sMAPE\n",
    "    denominator = np.abs(actuals) + np.abs(forecasts)\n",
    "    diff = np.abs(forecasts - actuals) * 2 / denominator\n",
    "    diff[denominator == 0] = 0  # Handle the case where both forecast and actual are zero\n",
    "    return 100 * np.mean(diff)\n",
    "\n",
    "# Example usage\n"
   ]
  },
  {
   "cell_type": "code",
   "execution_count": 14,
   "id": "dae329faf1a7c451",
   "metadata": {
    "ExecuteTime": {
     "end_time": "2024-02-10T21:47:44.735146500Z",
     "start_time": "2024-02-10T21:47:44.570587Z"
    }
   },
   "outputs": [
    {
     "name": "stdout",
     "output_type": "stream",
     "text": [
      "<class 'pandas.core.frame.DataFrame'>\n",
      "RangeIndex: 136950 entries, 0 to 136949\n",
      "Data columns (total 11 columns):\n",
      " #   Column           Non-Null Count   Dtype         \n",
      "---  ------           --------------   -----         \n",
      " 0   date             136950 non-null  datetime64[ns]\n",
      " 1   year             136950 non-null  int64         \n",
      " 2   month            136950 non-null  int64         \n",
      " 3   day              136950 non-null  int64         \n",
      " 4   day_of_week      136950 non-null  int64         \n",
      " 5   month_sin        136950 non-null  float64       \n",
      " 6   month_cos        136950 non-null  float64       \n",
      " 7   day_sin          136950 non-null  float64       \n",
      " 8   day_cos          136950 non-null  float64       \n",
      " 9   day_of_week_sin  136950 non-null  float64       \n",
      " 10  day_of_week_cos  136950 non-null  float64       \n",
      "dtypes: datetime64[ns](1), float64(6), int64(4)\n",
      "memory usage: 11.5 MB\n"
     ]
    }
   ],
   "source": [
    "df.info()"
   ]
  },
  {
   "cell_type": "code",
   "execution_count": 74,
   "id": "f35d5df5cc57aa61",
   "metadata": {
    "ExecuteTime": {
     "end_time": "2024-02-11T07:51:04.195991900Z",
     "start_time": "2024-02-11T07:51:04.159006800Z"
    }
   },
   "outputs": [],
   "source": [
    "# Split the train data into train & evl sets & \n",
    "# keep test data as test set\n",
    "X = train.drop(['id', 'num_sold', 'date'], axis=1)\n",
    "X['year']=df['year']-2017\n",
    "X['day']=df['day']\n",
    "X['month']=df['month']\n",
    "y = train['num_sold']\n",
    "# Use ColumnTransformer by the column types\n",
    "numeric_cols = X.select_dtypes(include='number').columns\n",
    "\n",
    "# Fill in missing values and make them equal to the median, then standardize them\n",
    "numeric_transformer = Pipeline(steps=[     \n",
    "    ('imputer', SimpleImputer(strategy='median')),\n",
    "    ('scaler', StandardScaler())\n",
    "])\n",
    "\n",
    "# Transform categorical variable into something readable by ML algorithms via One Hot encoding\n",
    "# percentile=50 means only the top 50% of features by score will be kept. Higher % reduces dimensionality and complexity\n",
    "catogorical_cols = X.select_dtypes(include='object').columns\n",
    "catogorical_transformer = Pipeline(steps=[\n",
    "    ('encoder', OneHotEncoder(handle_unknown='ignore')),\n",
    "    ('selector', SelectPercentile(chi2, percentile=50))\n",
    "])"
   ]
  },
  {
   "cell_type": "code",
   "execution_count": 87,
   "id": "895721cbe8b1e5cf",
   "metadata": {
    "ExecuteTime": {
     "end_time": "2024-02-11T07:54:51.918387800Z",
     "start_time": "2024-02-11T07:54:51.849572200Z"
    }
   },
   "outputs": [],
   "source": [
    "label_encoder = LabelEncoder()\n",
    "y = label_encoder.fit_transform(y)\n",
    "X_train, X_eval, y_train, y_eval = train_test_split(X, y, test_size=0.2, random_state=0)"
   ]
  },
  {
   "cell_type": "code",
   "execution_count": 84,
   "id": "466942a44f669476",
   "metadata": {
    "ExecuteTime": {
     "end_time": "2024-02-11T07:54:38.793768300Z",
     "start_time": "2024-02-11T07:54:38.747889700Z"
    }
   },
   "outputs": [],
   "source": [
    "# Use transformer when data contains both categorical and numerical values\n",
    "\n",
    "preprocessor = ColumnTransformer(\n",
    "    transformers=[\n",
    "        ('num', numeric_transformer, numeric_cols),\n",
    "        ('cat', catogorical_transformer, catogorical_cols)\n",
    "    ]\n",
    ")"
   ]
  },
  {
   "cell_type": "markdown",
   "id": "2e87271d4da1486a",
   "metadata": {},
   "source": []
  },
  {
   "cell_type": "code",
   "execution_count": 85,
   "id": "a39a12e59a1e4c74",
   "metadata": {
    "ExecuteTime": {
     "end_time": "2024-02-11T07:54:40.049407500Z",
     "start_time": "2024-02-11T07:54:40.011509400Z"
    }
   },
   "outputs": [],
   "source": [
    "# Define the second classifier (Random Forest)\n",
    "rf_clf = Pipeline(steps=[\n",
    "    ('preprocessor', preprocessor),\n",
    "    ('classifier', RandomForestRegressor())\n",
    "])\n",
    "\n",
    "# Train and evaluate Random Forest\n"
   ]
  },
  {
   "cell_type": "code",
   "execution_count": 67,
   "id": "de8c6170a2c151b2",
   "metadata": {
    "ExecuteTime": {
     "end_time": "2024-02-11T07:46:33.880726400Z",
     "start_time": "2024-02-11T07:46:17.770043700Z"
    }
   },
   "outputs": [
    {
     "name": "stdout",
     "output_type": "stream",
     "text": [
      "sMAPE: 18.203312264171792%\n"
     ]
    }
   ],
   "source": [
    "rf_clf.fit(X_train, y_train)\n",
    "y_pred = rf_clf.predict(X_eval)\n",
    "for i in range(len(y_pred)):\n",
    "    if y_pred[i]<0:\n",
    "        y_pred[i]=0\n",
    "\n",
    "smape_value = smape(y_pred, y_eval)\n",
    "print(f\"sMAPE: {smape_value}%\")"
   ]
  },
  {
   "cell_type": "code",
   "execution_count": 95,
   "id": "f0cc1eb87a87a453",
   "metadata": {
    "ExecuteTime": {
     "end_time": "2024-02-11T08:02:14.753335900Z",
     "start_time": "2024-02-11T08:02:14.430150100Z"
    }
   },
   "outputs": [],
   "source": [
    "xgb_clf = Pipeline(steps=[\n",
    "    ('preprocessor', preprocessor),\n",
    "])\n",
    "xgb_clf.fit(X_train, y_train)\n",
    "X_train_transformed = xgb_clf.named_steps['preprocessor'].transform(X_train)\n",
    "xgb_clf.fit(X_eval, y_eval)\n",
    "X_test_transformed = xgb_clf.named_steps['preprocessor'].transform(X_eval)"
   ]
  },
  {
   "cell_type": "code",
   "execution_count": 97,
   "id": "12f60d22ffeb8290",
   "metadata": {
    "ExecuteTime": {
     "end_time": "2024-02-11T08:02:53.324870800Z",
     "start_time": "2024-02-11T08:02:53.198210100Z"
    }
   },
   "outputs": [
    {
     "ename": "XGBoostError",
     "evalue": "[08:02:53] C:\\buildkite-agent\\builds\\buildkite-windows-cpu-autoscaling-group-i-0750514818a16474a-1\\xgboost\\xgboost-ci-windows\\src\\objective\\multiclass_obj.cu:123: SoftmaxMultiClassObj: label must be in [0, num_class).",
     "output_type": "error",
     "traceback": [
      "\u001b[1;31m---------------------------------------------------------------------------\u001b[0m",
      "\u001b[1;31mXGBoostError\u001b[0m                              Traceback (most recent call last)",
      "Cell \u001b[1;32mIn[97], line 23\u001b[0m\n\u001b[0;32m     18\u001b[0m num_round \u001b[38;5;241m=\u001b[39m \u001b[38;5;241m100\u001b[39m\n\u001b[0;32m     22\u001b[0m \u001b[38;5;66;03m# Train the model\u001b[39;00m\n\u001b[1;32m---> 23\u001b[0m bst \u001b[38;5;241m=\u001b[39m \u001b[43mxgb\u001b[49m\u001b[38;5;241;43m.\u001b[39;49m\u001b[43mtrain\u001b[49m\u001b[43m(\u001b[49m\u001b[43mparams\u001b[49m\u001b[43m,\u001b[49m\u001b[43m \u001b[49m\u001b[43mdtrain\u001b[49m\u001b[43m)\u001b[49m\n\u001b[0;32m     25\u001b[0m \u001b[38;5;66;03m# Make predictions\u001b[39;00m\n\u001b[0;32m     26\u001b[0m preds \u001b[38;5;241m=\u001b[39m bst\u001b[38;5;241m.\u001b[39mpredict(dtest)\n",
      "File \u001b[1;32m~\\anaconda3\\lib\\site-packages\\xgboost\\core.py:729\u001b[0m, in \u001b[0;36mrequire_keyword_args.<locals>.throw_if.<locals>.inner_f\u001b[1;34m(*args, **kwargs)\u001b[0m\n\u001b[0;32m    727\u001b[0m \u001b[38;5;28;01mfor\u001b[39;00m k, arg \u001b[38;5;129;01min\u001b[39;00m \u001b[38;5;28mzip\u001b[39m(sig\u001b[38;5;241m.\u001b[39mparameters, args):\n\u001b[0;32m    728\u001b[0m     kwargs[k] \u001b[38;5;241m=\u001b[39m arg\n\u001b[1;32m--> 729\u001b[0m \u001b[38;5;28;01mreturn\u001b[39;00m func(\u001b[38;5;241m*\u001b[39m\u001b[38;5;241m*\u001b[39mkwargs)\n",
      "File \u001b[1;32m~\\anaconda3\\lib\\site-packages\\xgboost\\training.py:181\u001b[0m, in \u001b[0;36mtrain\u001b[1;34m(params, dtrain, num_boost_round, evals, obj, feval, maximize, early_stopping_rounds, evals_result, verbose_eval, xgb_model, callbacks, custom_metric)\u001b[0m\n\u001b[0;32m    179\u001b[0m \u001b[38;5;28;01mif\u001b[39;00m cb_container\u001b[38;5;241m.\u001b[39mbefore_iteration(bst, i, dtrain, evals):\n\u001b[0;32m    180\u001b[0m     \u001b[38;5;28;01mbreak\u001b[39;00m\n\u001b[1;32m--> 181\u001b[0m \u001b[43mbst\u001b[49m\u001b[38;5;241;43m.\u001b[39;49m\u001b[43mupdate\u001b[49m\u001b[43m(\u001b[49m\u001b[43mdtrain\u001b[49m\u001b[43m,\u001b[49m\u001b[43m \u001b[49m\u001b[43mi\u001b[49m\u001b[43m,\u001b[49m\u001b[43m \u001b[49m\u001b[43mobj\u001b[49m\u001b[43m)\u001b[49m\n\u001b[0;32m    182\u001b[0m \u001b[38;5;28;01mif\u001b[39;00m cb_container\u001b[38;5;241m.\u001b[39mafter_iteration(bst, i, dtrain, evals):\n\u001b[0;32m    183\u001b[0m     \u001b[38;5;28;01mbreak\u001b[39;00m\n",
      "File \u001b[1;32m~\\anaconda3\\lib\\site-packages\\xgboost\\core.py:2049\u001b[0m, in \u001b[0;36mBooster.update\u001b[1;34m(self, dtrain, iteration, fobj)\u001b[0m\n\u001b[0;32m   2046\u001b[0m \u001b[38;5;28mself\u001b[39m\u001b[38;5;241m.\u001b[39m_assign_dmatrix_features(dtrain)\n\u001b[0;32m   2048\u001b[0m \u001b[38;5;28;01mif\u001b[39;00m fobj \u001b[38;5;129;01mis\u001b[39;00m \u001b[38;5;28;01mNone\u001b[39;00m:\n\u001b[1;32m-> 2049\u001b[0m     \u001b[43m_check_call\u001b[49m\u001b[43m(\u001b[49m\n\u001b[0;32m   2050\u001b[0m \u001b[43m        \u001b[49m\u001b[43m_LIB\u001b[49m\u001b[38;5;241;43m.\u001b[39;49m\u001b[43mXGBoosterUpdateOneIter\u001b[49m\u001b[43m(\u001b[49m\n\u001b[0;32m   2051\u001b[0m \u001b[43m            \u001b[49m\u001b[38;5;28;43mself\u001b[39;49m\u001b[38;5;241;43m.\u001b[39;49m\u001b[43mhandle\u001b[49m\u001b[43m,\u001b[49m\u001b[43m \u001b[49m\u001b[43mctypes\u001b[49m\u001b[38;5;241;43m.\u001b[39;49m\u001b[43mc_int\u001b[49m\u001b[43m(\u001b[49m\u001b[43miteration\u001b[49m\u001b[43m)\u001b[49m\u001b[43m,\u001b[49m\u001b[43m \u001b[49m\u001b[43mdtrain\u001b[49m\u001b[38;5;241;43m.\u001b[39;49m\u001b[43mhandle\u001b[49m\n\u001b[0;32m   2052\u001b[0m \u001b[43m        \u001b[49m\u001b[43m)\u001b[49m\n\u001b[0;32m   2053\u001b[0m \u001b[43m    \u001b[49m\u001b[43m)\u001b[49m\n\u001b[0;32m   2054\u001b[0m \u001b[38;5;28;01melse\u001b[39;00m:\n\u001b[0;32m   2055\u001b[0m     pred \u001b[38;5;241m=\u001b[39m \u001b[38;5;28mself\u001b[39m\u001b[38;5;241m.\u001b[39mpredict(dtrain, output_margin\u001b[38;5;241m=\u001b[39m\u001b[38;5;28;01mTrue\u001b[39;00m, training\u001b[38;5;241m=\u001b[39m\u001b[38;5;28;01mTrue\u001b[39;00m)\n",
      "File \u001b[1;32m~\\anaconda3\\lib\\site-packages\\xgboost\\core.py:281\u001b[0m, in \u001b[0;36m_check_call\u001b[1;34m(ret)\u001b[0m\n\u001b[0;32m    270\u001b[0m \u001b[38;5;124;03m\"\"\"Check the return value of C API call\u001b[39;00m\n\u001b[0;32m    271\u001b[0m \n\u001b[0;32m    272\u001b[0m \u001b[38;5;124;03mThis function will raise exception when error occurs.\u001b[39;00m\n\u001b[1;32m   (...)\u001b[0m\n\u001b[0;32m    278\u001b[0m \u001b[38;5;124;03m    return value from API calls\u001b[39;00m\n\u001b[0;32m    279\u001b[0m \u001b[38;5;124;03m\"\"\"\u001b[39;00m\n\u001b[0;32m    280\u001b[0m \u001b[38;5;28;01mif\u001b[39;00m ret \u001b[38;5;241m!=\u001b[39m \u001b[38;5;241m0\u001b[39m:\n\u001b[1;32m--> 281\u001b[0m     \u001b[38;5;28;01mraise\u001b[39;00m XGBoostError(py_str(_LIB\u001b[38;5;241m.\u001b[39mXGBGetLastError()))\n",
      "\u001b[1;31mXGBoostError\u001b[0m: [08:02:53] C:\\buildkite-agent\\builds\\buildkite-windows-cpu-autoscaling-group-i-0750514818a16474a-1\\xgboost\\xgboost-ci-windows\\src\\objective\\multiclass_obj.cu:123: SoftmaxMultiClassObj: label must be in [0, num_class)."
     ]
    }
   ],
   "source": [
    "categorical_columns = ['country', 'store', 'product']  # Update this list with your actual categorical columns\n",
    "for col in categorical_columns:\n",
    "    X_train[col] = X_train[col].astype('category')\n",
    "    X_eval[col] = X_eval[col].astype('category')\n",
    "    \n",
    "dtrain = xgb.DMatrix(X_train_transformed, label=y_train, enable_categorical=True)\n",
    "dtest = xgb.DMatrix(X_test_transformed, label=y_eval, enable_categorical=True)\n",
    "\n",
    "# Specify training parameters\n",
    "params = {\n",
    "    'max_depth': 10,  # the maximum depth of each tree\n",
    "    'eta': 0.3,  # the training step for each iteration\n",
    "    'objective': 'multi:softprob',  # error evaluation for multiclass training\n",
    "    'num_class': 3  # the number of classes that exist in this dataset\n",
    "}\n",
    "\n",
    "# Specify the number of training iterations\n",
    "num_round = 100\n",
    "\n",
    "\n",
    "\n",
    "# Train the model\n",
    "bst = xgb.train(params, dtrain)\n",
    "\n",
    "# Make predictions\n",
    "preds = bst.predict(dtest)\n",
    "best_preds = np.asarray([np.argmax(line) for line in preds])"
   ]
  },
  {
   "cell_type": "code",
   "execution_count": 41,
   "id": "694b30e8b9c5eada",
   "metadata": {
    "ExecuteTime": {
     "end_time": "2024-02-11T07:19:46.047216500Z",
     "start_time": "2024-02-11T07:19:46.028284100Z"
    }
   },
   "outputs": [
    {
     "data": {
      "text/html": [
       "<div>\n",
       "<style scoped>\n",
       "    .dataframe tbody tr th:only-of-type {\n",
       "        vertical-align: middle;\n",
       "    }\n",
       "\n",
       "    .dataframe tbody tr th {\n",
       "        vertical-align: top;\n",
       "    }\n",
       "\n",
       "    .dataframe thead th {\n",
       "        text-align: right;\n",
       "    }\n",
       "</style>\n",
       "<table border=\"1\" class=\"dataframe\">\n",
       "  <thead>\n",
       "    <tr style=\"text-align: right;\">\n",
       "      <th></th>\n",
       "      <th>date</th>\n",
       "      <th>year</th>\n",
       "      <th>month</th>\n",
       "      <th>day</th>\n",
       "      <th>day_of_week</th>\n",
       "      <th>month_sin</th>\n",
       "      <th>month_cos</th>\n",
       "      <th>day_sin</th>\n",
       "      <th>day_cos</th>\n",
       "      <th>day_of_week_sin</th>\n",
       "      <th>day_of_week_cos</th>\n",
       "    </tr>\n",
       "  </thead>\n",
       "  <tbody>\n",
       "    <tr>\n",
       "      <th>0</th>\n",
       "      <td>2017-01-01</td>\n",
       "      <td>2017</td>\n",
       "      <td>1</td>\n",
       "      <td>1</td>\n",
       "      <td>6</td>\n",
       "      <td>5.000000e-01</td>\n",
       "      <td>0.866025</td>\n",
       "      <td>2.012985e-01</td>\n",
       "      <td>0.97953</td>\n",
       "      <td>-0.781831</td>\n",
       "      <td>0.623490</td>\n",
       "    </tr>\n",
       "    <tr>\n",
       "      <th>1</th>\n",
       "      <td>2017-01-01</td>\n",
       "      <td>2017</td>\n",
       "      <td>1</td>\n",
       "      <td>1</td>\n",
       "      <td>6</td>\n",
       "      <td>5.000000e-01</td>\n",
       "      <td>0.866025</td>\n",
       "      <td>2.012985e-01</td>\n",
       "      <td>0.97953</td>\n",
       "      <td>-0.781831</td>\n",
       "      <td>0.623490</td>\n",
       "    </tr>\n",
       "    <tr>\n",
       "      <th>2</th>\n",
       "      <td>2017-01-01</td>\n",
       "      <td>2017</td>\n",
       "      <td>1</td>\n",
       "      <td>1</td>\n",
       "      <td>6</td>\n",
       "      <td>5.000000e-01</td>\n",
       "      <td>0.866025</td>\n",
       "      <td>2.012985e-01</td>\n",
       "      <td>0.97953</td>\n",
       "      <td>-0.781831</td>\n",
       "      <td>0.623490</td>\n",
       "    </tr>\n",
       "    <tr>\n",
       "      <th>3</th>\n",
       "      <td>2017-01-01</td>\n",
       "      <td>2017</td>\n",
       "      <td>1</td>\n",
       "      <td>1</td>\n",
       "      <td>6</td>\n",
       "      <td>5.000000e-01</td>\n",
       "      <td>0.866025</td>\n",
       "      <td>2.012985e-01</td>\n",
       "      <td>0.97953</td>\n",
       "      <td>-0.781831</td>\n",
       "      <td>0.623490</td>\n",
       "    </tr>\n",
       "    <tr>\n",
       "      <th>4</th>\n",
       "      <td>2017-01-01</td>\n",
       "      <td>2017</td>\n",
       "      <td>1</td>\n",
       "      <td>1</td>\n",
       "      <td>6</td>\n",
       "      <td>5.000000e-01</td>\n",
       "      <td>0.866025</td>\n",
       "      <td>2.012985e-01</td>\n",
       "      <td>0.97953</td>\n",
       "      <td>-0.781831</td>\n",
       "      <td>0.623490</td>\n",
       "    </tr>\n",
       "    <tr>\n",
       "      <th>...</th>\n",
       "      <td>...</td>\n",
       "      <td>...</td>\n",
       "      <td>...</td>\n",
       "      <td>...</td>\n",
       "      <td>...</td>\n",
       "      <td>...</td>\n",
       "      <td>...</td>\n",
       "      <td>...</td>\n",
       "      <td>...</td>\n",
       "      <td>...</td>\n",
       "      <td>...</td>\n",
       "    </tr>\n",
       "    <tr>\n",
       "      <th>136945</th>\n",
       "      <td>2021-12-31</td>\n",
       "      <td>2021</td>\n",
       "      <td>12</td>\n",
       "      <td>31</td>\n",
       "      <td>4</td>\n",
       "      <td>-2.449294e-16</td>\n",
       "      <td>1.000000</td>\n",
       "      <td>-2.449294e-16</td>\n",
       "      <td>1.00000</td>\n",
       "      <td>-0.433884</td>\n",
       "      <td>-0.900969</td>\n",
       "    </tr>\n",
       "    <tr>\n",
       "      <th>136946</th>\n",
       "      <td>2021-12-31</td>\n",
       "      <td>2021</td>\n",
       "      <td>12</td>\n",
       "      <td>31</td>\n",
       "      <td>4</td>\n",
       "      <td>-2.449294e-16</td>\n",
       "      <td>1.000000</td>\n",
       "      <td>-2.449294e-16</td>\n",
       "      <td>1.00000</td>\n",
       "      <td>-0.433884</td>\n",
       "      <td>-0.900969</td>\n",
       "    </tr>\n",
       "    <tr>\n",
       "      <th>136947</th>\n",
       "      <td>2021-12-31</td>\n",
       "      <td>2021</td>\n",
       "      <td>12</td>\n",
       "      <td>31</td>\n",
       "      <td>4</td>\n",
       "      <td>-2.449294e-16</td>\n",
       "      <td>1.000000</td>\n",
       "      <td>-2.449294e-16</td>\n",
       "      <td>1.00000</td>\n",
       "      <td>-0.433884</td>\n",
       "      <td>-0.900969</td>\n",
       "    </tr>\n",
       "    <tr>\n",
       "      <th>136948</th>\n",
       "      <td>2021-12-31</td>\n",
       "      <td>2021</td>\n",
       "      <td>12</td>\n",
       "      <td>31</td>\n",
       "      <td>4</td>\n",
       "      <td>-2.449294e-16</td>\n",
       "      <td>1.000000</td>\n",
       "      <td>-2.449294e-16</td>\n",
       "      <td>1.00000</td>\n",
       "      <td>-0.433884</td>\n",
       "      <td>-0.900969</td>\n",
       "    </tr>\n",
       "    <tr>\n",
       "      <th>136949</th>\n",
       "      <td>2021-12-31</td>\n",
       "      <td>2021</td>\n",
       "      <td>12</td>\n",
       "      <td>31</td>\n",
       "      <td>4</td>\n",
       "      <td>-2.449294e-16</td>\n",
       "      <td>1.000000</td>\n",
       "      <td>-2.449294e-16</td>\n",
       "      <td>1.00000</td>\n",
       "      <td>-0.433884</td>\n",
       "      <td>-0.900969</td>\n",
       "    </tr>\n",
       "  </tbody>\n",
       "</table>\n",
       "<p>136950 rows × 11 columns</p>\n",
       "</div>"
      ],
      "text/plain": [
       "             date  year  month  day  day_of_week     month_sin  month_cos  \\\n",
       "0      2017-01-01  2017      1    1            6  5.000000e-01   0.866025   \n",
       "1      2017-01-01  2017      1    1            6  5.000000e-01   0.866025   \n",
       "2      2017-01-01  2017      1    1            6  5.000000e-01   0.866025   \n",
       "3      2017-01-01  2017      1    1            6  5.000000e-01   0.866025   \n",
       "4      2017-01-01  2017      1    1            6  5.000000e-01   0.866025   \n",
       "...           ...   ...    ...  ...          ...           ...        ...   \n",
       "136945 2021-12-31  2021     12   31            4 -2.449294e-16   1.000000   \n",
       "136946 2021-12-31  2021     12   31            4 -2.449294e-16   1.000000   \n",
       "136947 2021-12-31  2021     12   31            4 -2.449294e-16   1.000000   \n",
       "136948 2021-12-31  2021     12   31            4 -2.449294e-16   1.000000   \n",
       "136949 2021-12-31  2021     12   31            4 -2.449294e-16   1.000000   \n",
       "\n",
       "             day_sin  day_cos  day_of_week_sin  day_of_week_cos  \n",
       "0       2.012985e-01  0.97953        -0.781831         0.623490  \n",
       "1       2.012985e-01  0.97953        -0.781831         0.623490  \n",
       "2       2.012985e-01  0.97953        -0.781831         0.623490  \n",
       "3       2.012985e-01  0.97953        -0.781831         0.623490  \n",
       "4       2.012985e-01  0.97953        -0.781831         0.623490  \n",
       "...              ...      ...              ...              ...  \n",
       "136945 -2.449294e-16  1.00000        -0.433884        -0.900969  \n",
       "136946 -2.449294e-16  1.00000        -0.433884        -0.900969  \n",
       "136947 -2.449294e-16  1.00000        -0.433884        -0.900969  \n",
       "136948 -2.449294e-16  1.00000        -0.433884        -0.900969  \n",
       "136949 -2.449294e-16  1.00000        -0.433884        -0.900969  \n",
       "\n",
       "[136950 rows x 11 columns]"
      ]
     },
     "execution_count": 41,
     "metadata": {},
     "output_type": "execute_result"
    }
   ],
   "source": [
    "df"
   ]
  },
  {
   "cell_type": "code",
   "execution_count": 48,
   "id": "5828b3bdd7deb8ce",
   "metadata": {
    "ExecuteTime": {
     "end_time": "2024-02-11T07:42:24.151428500Z",
     "start_time": "2024-02-11T07:42:24.119484600Z"
    }
   },
   "outputs": [],
   "source": [
    "# Split the train data into train & evl sets & \n",
    "# keep test data as test set\n",
    "X = train.drop(['id', 'num_sold', 'date'], axis=1)\n",
    "X['year']=df['year']-2017\n",
    "X['day']=df['day']\n",
    "X['month']=df['month']\n",
    "y = train['num_sold']\n",
    "\n",
    "X_train, X_eval, y_train, y_eval = train_test_split(X, y, test_size=0.2, random_state=0)"
   ]
  },
  {
   "cell_type": "code",
   "execution_count": 49,
   "id": "73870fcc23349b33",
   "metadata": {
    "ExecuteTime": {
     "end_time": "2024-02-11T07:42:26.572165800Z",
     "start_time": "2024-02-11T07:42:26.530278Z"
    }
   },
   "outputs": [
    {
     "data": {
      "text/html": [
       "<div>\n",
       "<style scoped>\n",
       "    .dataframe tbody tr th:only-of-type {\n",
       "        vertical-align: middle;\n",
       "    }\n",
       "\n",
       "    .dataframe tbody tr th {\n",
       "        vertical-align: top;\n",
       "    }\n",
       "\n",
       "    .dataframe thead th {\n",
       "        text-align: right;\n",
       "    }\n",
       "</style>\n",
       "<table border=\"1\" class=\"dataframe\">\n",
       "  <thead>\n",
       "    <tr style=\"text-align: right;\">\n",
       "      <th></th>\n",
       "      <th>country</th>\n",
       "      <th>store</th>\n",
       "      <th>product</th>\n",
       "      <th>year</th>\n",
       "      <th>day</th>\n",
       "      <th>month</th>\n",
       "    </tr>\n",
       "  </thead>\n",
       "  <tbody>\n",
       "    <tr>\n",
       "      <th>115128</th>\n",
       "      <td>Argentina</td>\n",
       "      <td>Kaggle Learn</td>\n",
       "      <td>Using LLMs to Win More Kaggle Competitions</td>\n",
       "      <td>4</td>\n",
       "      <td>16</td>\n",
       "      <td>3</td>\n",
       "    </tr>\n",
       "    <tr>\n",
       "      <th>3737</th>\n",
       "      <td>Spain</td>\n",
       "      <td>Kaggle Learn</td>\n",
       "      <td>Using LLMs to Win Friends and Influence People</td>\n",
       "      <td>0</td>\n",
       "      <td>19</td>\n",
       "      <td>2</td>\n",
       "    </tr>\n",
       "    <tr>\n",
       "      <th>134723</th>\n",
       "      <td>Canada</td>\n",
       "      <td>Kaggle Store</td>\n",
       "      <td>Using LLMs to Win More Kaggle Competitions</td>\n",
       "      <td>4</td>\n",
       "      <td>2</td>\n",
       "      <td>12</td>\n",
       "    </tr>\n",
       "    <tr>\n",
       "      <th>25613</th>\n",
       "      <td>Estonia</td>\n",
       "      <td>Kaggle Store</td>\n",
       "      <td>Using LLMs to Win More Kaggle Competitions</td>\n",
       "      <td>0</td>\n",
       "      <td>8</td>\n",
       "      <td>12</td>\n",
       "    </tr>\n",
       "    <tr>\n",
       "      <th>3700</th>\n",
       "      <td>Canada</td>\n",
       "      <td>Kagglazon</td>\n",
       "      <td>Using LLMs to Improve Your Coding</td>\n",
       "      <td>0</td>\n",
       "      <td>19</td>\n",
       "      <td>2</td>\n",
       "    </tr>\n",
       "    <tr>\n",
       "      <th>...</th>\n",
       "      <td>...</td>\n",
       "      <td>...</td>\n",
       "      <td>...</td>\n",
       "      <td>...</td>\n",
       "      <td>...</td>\n",
       "      <td>...</td>\n",
       "    </tr>\n",
       "    <tr>\n",
       "      <th>41993</th>\n",
       "      <td>Spain</td>\n",
       "      <td>Kaggle Store</td>\n",
       "      <td>Using LLMs to Win More Kaggle Competitions</td>\n",
       "      <td>1</td>\n",
       "      <td>14</td>\n",
       "      <td>7</td>\n",
       "    </tr>\n",
       "    <tr>\n",
       "      <th>97639</th>\n",
       "      <td>Spain</td>\n",
       "      <td>Kaggle Learn</td>\n",
       "      <td>Using LLMs to Write Better</td>\n",
       "      <td>3</td>\n",
       "      <td>25</td>\n",
       "      <td>7</td>\n",
       "    </tr>\n",
       "    <tr>\n",
       "      <th>95939</th>\n",
       "      <td>Argentina</td>\n",
       "      <td>Kagglazon</td>\n",
       "      <td>Using LLMs to Write Better</td>\n",
       "      <td>3</td>\n",
       "      <td>3</td>\n",
       "      <td>7</td>\n",
       "    </tr>\n",
       "    <tr>\n",
       "      <th>117952</th>\n",
       "      <td>Japan</td>\n",
       "      <td>Kaggle Store</td>\n",
       "      <td>Using LLMs to Win Friends and Influence People</td>\n",
       "      <td>4</td>\n",
       "      <td>22</td>\n",
       "      <td>4</td>\n",
       "    </tr>\n",
       "    <tr>\n",
       "      <th>43567</th>\n",
       "      <td>Spain</td>\n",
       "      <td>Kaggle Store</td>\n",
       "      <td>Using LLMs to Win Friends and Influence People</td>\n",
       "      <td>1</td>\n",
       "      <td>4</td>\n",
       "      <td>8</td>\n",
       "    </tr>\n",
       "  </tbody>\n",
       "</table>\n",
       "<p>109560 rows × 6 columns</p>\n",
       "</div>"
      ],
      "text/plain": [
       "          country         store  \\\n",
       "115128  Argentina  Kaggle Learn   \n",
       "3737        Spain  Kaggle Learn   \n",
       "134723     Canada  Kaggle Store   \n",
       "25613     Estonia  Kaggle Store   \n",
       "3700       Canada     Kagglazon   \n",
       "...           ...           ...   \n",
       "41993       Spain  Kaggle Store   \n",
       "97639       Spain  Kaggle Learn   \n",
       "95939   Argentina     Kagglazon   \n",
       "117952      Japan  Kaggle Store   \n",
       "43567       Spain  Kaggle Store   \n",
       "\n",
       "                                               product  year  day  month  \n",
       "115128      Using LLMs to Win More Kaggle Competitions     4   16      3  \n",
       "3737    Using LLMs to Win Friends and Influence People     0   19      2  \n",
       "134723      Using LLMs to Win More Kaggle Competitions     4    2     12  \n",
       "25613       Using LLMs to Win More Kaggle Competitions     0    8     12  \n",
       "3700                 Using LLMs to Improve Your Coding     0   19      2  \n",
       "...                                                ...   ...  ...    ...  \n",
       "41993       Using LLMs to Win More Kaggle Competitions     1   14      7  \n",
       "97639                       Using LLMs to Write Better     3   25      7  \n",
       "95939                       Using LLMs to Write Better     3    3      7  \n",
       "117952  Using LLMs to Win Friends and Influence People     4   22      4  \n",
       "43567   Using LLMs to Win Friends and Influence People     1    4      8  \n",
       "\n",
       "[109560 rows x 6 columns]"
      ]
     },
     "execution_count": 49,
     "metadata": {},
     "output_type": "execute_result"
    }
   ],
   "source": [
    "X_train"
   ]
  },
  {
   "cell_type": "code",
   "execution_count": null,
   "id": "7cb3e14913c92e30",
   "metadata": {},
   "outputs": [],
   "source": []
  },
  {
   "cell_type": "code",
   "execution_count": null,
   "id": "6fa8f22e85268d41",
   "metadata": {},
   "outputs": [],
   "source": [
    "# Fit the model to the training data\n",
    "lasso = Lasso(alpha=1.0)\n",
    "# Define the classifier (logistic regression for categorical predictions, otherwise linear regression)\n",
    "lr_clf = Pipeline(steps=[\n",
    "    ('preprocessor', preprocessor),\n",
    "    ('classifier', lasso)\n",
    "])\n",
    "\n",
    "# Train and evaluate Logistic Regression\n",
    "lr_clf.fit(X_train, y_train)"
   ]
  },
  {
   "cell_type": "code",
   "execution_count": 61,
   "id": "573d869d24852058",
   "metadata": {
    "ExecuteTime": {
     "end_time": "2024-02-11T07:45:38.242481200Z",
     "start_time": "2024-02-11T07:45:38.226467500Z"
    }
   },
   "outputs": [
    {
     "name": "stdout",
     "output_type": "stream",
     "text": [
      "sMAPE: 63.42177948423738%\n"
     ]
    }
   ],
   "source": []
  },
  {
   "cell_type": "code",
   "execution_count": null,
   "id": "d147118cb6ddc1ff",
   "metadata": {},
   "outputs": [],
   "source": [
    "alpha_values = np.linspace(0.01, 1, 20)  # Adjust the range and number of values as needed\n",
    "\n",
    "# Initialize variables to store the best alpha and its corresponding sMAPE\n",
    "best_alpha = None\n",
    "best_smape = np.inf\n",
    "lr_clf.fit(X_train, y_train)\n",
    "# Loop over alpha values to find the best one\n",
    "for alpha in alpha_values:\n",
    "    lasso = Lasso(alpha=alpha)\n",
    "    lr_clf = Pipeline(steps=[\n",
    "        ('preprocessor', preprocessor),\n",
    "        ('classifier', lasso)\n",
    "    ])\n",
    "    lr_clf.fit(X_train, y_train)\n",
    "    predictions = lr_clf.predict(X_eval)\n",
    "\n",
    "    # Calculate sMAPE\n",
    "    current_smape = smape(y_eval, predictions)\n",
    "\n",
    "    # Update best_alpha if current model is better\n",
    "    if current_smape < best_smape:\n",
    "        best_smape = current_smape\n",
    "        best_alpha = alpha\n",
    "\n",
    "print(f\"Best Alpha: {best_alpha}\")\n",
    "print(f\"Best sMAPE: {best_smape}%\")"
   ]
  },
  {
   "cell_type": "code",
   "execution_count": null,
   "id": "41aa91c8df92130b",
   "metadata": {},
   "outputs": [],
   "source": [
    "# Predict on the test set\n",
    "y_pred = lr_clf.predict(X_eval)\n",
    "for i in range(len(y_pred)):\n",
    "    if y_pred[i]<0:\n",
    "        y_pred[i]=0\n",
    "\n"
   ]
  }
 ],
 "metadata": {
  "kernelspec": {
   "display_name": "Python 3 (ipykernel)",
   "language": "python",
   "name": "python3"
  },
  "language_info": {
   "codemirror_mode": {
    "name": "ipython",
    "version": 3
   },
   "file_extension": ".py",
   "mimetype": "text/x-python",
   "name": "python",
   "nbconvert_exporter": "python",
   "pygments_lexer": "ipython3",
   "version": "3.10.9"
  },
  "varInspector": {
   "cols": {
    "lenName": 16,
    "lenType": 16,
    "lenVar": 40
   },
   "kernels_config": {
    "python": {
     "delete_cmd_postfix": "",
     "delete_cmd_prefix": "del ",
     "library": "var_list.py",
     "varRefreshCmd": "print(var_dic_list())"
    },
    "r": {
     "delete_cmd_postfix": ") ",
     "delete_cmd_prefix": "rm(",
     "library": "var_list.r",
     "varRefreshCmd": "cat(var_dic_list()) "
    }
   },
   "types_to_exclude": [
    "module",
    "function",
    "builtin_function_or_method",
    "instance",
    "_Feature"
   ],
   "window_display": false
  }
 },
 "nbformat": 4,
 "nbformat_minor": 5
}
